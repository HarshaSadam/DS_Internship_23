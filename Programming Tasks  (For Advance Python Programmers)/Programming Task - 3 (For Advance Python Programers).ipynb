{
 "cells": [
  {
   "cell_type": "markdown",
   "metadata": {},
   "source": [
    "***1) Maximum Product of Two Elements in an Array***\n",
    "\n",
    "Given the array of integers nums, you will choose two different indices i and j of that array. Return the maximum value of (nums[i]-1)*(nums[j]-1)."
   ]
  },
  {
   "cell_type": "code",
   "execution_count": 11,
   "metadata": {},
   "outputs": [
    {
     "name": "stdout",
     "output_type": "stream",
     "text": [
      "12\n",
      "16\n",
      "12\n"
     ]
    }
   ],
   "source": [
    "from typing import List\n",
    "class Solution:\n",
    "    def maxProduct(self, nums: List[int]) -> int:\n",
    "        nums.sort()\n",
    "        return (nums[-1]-1)*(nums[-2]-1)\n",
    "\n",
    "s = Solution()\n",
    "\n",
    "#     Example 1 :\n",
    "print(s.maxProduct([3,4,5,2]))  # Output : 4\n",
    "        \n",
    "#     Example 2 :\n",
    "print(s.maxProduct([1,5,4,5])) # Output : 6\n",
    "\n",
    "#     Example 3 :\n",
    "print(s.maxProduct([3,7])) # Output : 0"
   ]
  },
  {
   "cell_type": "markdown",
   "metadata": {},
   "source": [
    "***2)Count Number of Teams***\n",
    "\n",
    "There are n soldiers standing in a line. Each soldier is assigned a unique rating value.\n",
    "  \n",
    "You have to form a team of 3 soldiers amongst them under the following rules:\n",
    "   - Choose 3 soldiers with index (i, j, k) with rating (rating[i], rating[j], rating[k]).\n",
    "   - A team is valid if: (rating[i] < rating[j] < rating[k]) or (rating[i] > rating[j] > rating[k]) where (0 <= i < j < k < n).\n",
    "\n",
    "Return the number of teams you can form given the conditions. (soldiers can be part of multiple teams)."
   ]
  },
  {
   "cell_type": "code",
   "execution_count": 12,
   "metadata": {},
   "outputs": [
    {
     "name": "stdout",
     "output_type": "stream",
     "text": [
      "3\n",
      "0\n",
      "4\n"
     ]
    }
   ],
   "source": [
    "from typing import List\n",
    "\n",
    "class Solution:\n",
    "    def numTeams(self, rating: List[int]) -> int:\n",
    "        countTeams = 0 \n",
    "        for i in range(0,len(rating)):\n",
    "            temp1,temp2,temp3,temp4=0,0,0,0\n",
    "            for j in range(0,len(rating)):\n",
    "                if(i>j):\n",
    "                    if(rating[i]>rating[j]):\n",
    "                        temp1+=1\n",
    "                    else:\n",
    "                        temp2+=1\n",
    "                elif(j>i):\n",
    "                    if(rating[i]>rating[j]):\n",
    "                        temp3+=1\n",
    "                    else:\n",
    "                        temp4+=1\n",
    "            countTeams+=temp1*temp4 + temp2*temp3\n",
    "        return countTeams\n",
    "\n",
    "s = Solution()\n",
    "\n",
    "#     Example 1 :\n",
    "print(s.numTeams([2,5,3,4,1]))  # Output : 3\n",
    "        \n",
    "#     Example 2 :\n",
    "print(s.numTeams([2,1,3])) # Output : 0\n",
    "\n",
    "#     Example 3 :\n",
    "print(s.numTeams([1,2,3,4])) # Output : 4"
   ]
  },
  {
   "attachments": {},
   "cell_type": "markdown",
   "metadata": {},
   "source": [
    "***3) Number of Students Doing Homework at a Given Time***\n",
    "\n",
    "Given two integer arrays startTime and endTime and given an integer queryTime.\n",
    "\n",
    "The ith student started doing their homework at the time startTime[i] and finished it at time endTime[i].\n",
    "\n",
    "Return the number of students doing their homework at time queryTime. More formally, return the number of students where queryTime lays in the interval [startTime[i], endTime[i]] inclusive."
   ]
  },
  {
   "cell_type": "code",
   "execution_count": 13,
   "metadata": {},
   "outputs": [
    {
     "name": "stdout",
     "output_type": "stream",
     "text": [
      "1\n",
      "1\n"
     ]
    }
   ],
   "source": [
    "from typing import List\n",
    "\n",
    "class Solution:\n",
    "    def busyStudent(self, startTime: List[int], endTime: List[int], queryTime: int) -> int:\n",
    "        return sum((startTime[i] <= queryTime <=endTime[i]) for i in range(len(startTime)))\n",
    "\n",
    "s = Solution()\n",
    "\n",
    "#     Example 1 :\n",
    "print(s.busyStudent([1,2,3],[3,2,7],4))  # Output : 1\n",
    "        \n",
    "#     Example 2 :\n",
    "print(s.busyStudent([4],[4],4)) # Output : 1"
   ]
  },
  {
   "attachments": {},
   "cell_type": "markdown",
   "metadata": {},
   "source": [
    "***4) Number of Steps to Reduce a Number to Zero***\n",
    "\n",
    "Given an integer num, return the number of steps to reduce it to zero.\n",
    "\n",
    "In one step, if the current number is even, you have to divide it by 2, otherwise, you have to subtract 1 from it."
   ]
  },
  {
   "cell_type": "code",
   "execution_count": 14,
   "metadata": {},
   "outputs": [
    {
     "name": "stdout",
     "output_type": "stream",
     "text": [
      "6\n",
      "4\n",
      "12\n"
     ]
    }
   ],
   "source": [
    "class Solution:\n",
    "    def numberOfSteps(self, num: int) -> int:\n",
    "        count = 0\n",
    "        while(num>0):\n",
    "            if(num%2==1):\n",
    "                num-=1\n",
    "            else :\n",
    "                num//=2\n",
    "            count+=1\n",
    "        return count\n",
    "\n",
    "s = Solution()\n",
    "\n",
    "#     Example 1 :\n",
    "print(s.numberOfSteps(14))  # Output : 6        \n",
    "#     Example 2 :\n",
    "print(s.numberOfSteps(8)) # Output : 4\n",
    "\n",
    "#     Example 3 :\n",
    "print(s.numberOfSteps(123)) # Output : 12"
   ]
  },
  {
   "attachments": {},
   "cell_type": "markdown",
   "metadata": {},
   "source": [
    "***5)Counting Bits***\n",
    "\n",
    "Given an integer n, return an array ans of length n + 1 such that for each i (0 <= i <= n), ans[i] is the number of 1's in the binary representation of i."
   ]
  },
  {
   "cell_type": "code",
   "execution_count": 15,
   "metadata": {},
   "outputs": [
    {
     "name": "stdout",
     "output_type": "stream",
     "text": [
      "[0, 1, 1]\n",
      "[0, 1, 1, 2, 1, 2]\n"
     ]
    }
   ],
   "source": [
    "from typing import List\n",
    "class Solution:\n",
    "    def countBits(self, n: int) -> List[int]:\n",
    "        result = []\n",
    "        for i in range(n+1):\n",
    "            binary_number = bin(i)\n",
    "            result.append(binary_number.count('1'))\n",
    "        return result\n",
    "\n",
    "s = Solution()\n",
    "\n",
    "#     Example 1 :\n",
    "print(s.countBits(2))  # Output : [0,1,1]       \n",
    "#     Example 2 :\n",
    "print(s.countBits(5)) # Output : [0,1,1,2,1,2]"
   ]
  }
 ],
 "metadata": {
  "kernelspec": {
   "display_name": "Python 3 (ipykernel)",
   "language": "python",
   "name": "python3"
  },
  "language_info": {
   "codemirror_mode": {
    "name": "ipython",
    "version": 3
   },
   "file_extension": ".py",
   "mimetype": "text/x-python",
   "name": "python",
   "nbconvert_exporter": "python",
   "pygments_lexer": "ipython3",
   "version": "3.10.2"
  },
  "vscode": {
   "interpreter": {
    "hash": "a122c9944ad41beb6aa9080bf0c751cb04b95398056e833ad50740a9031a725a"
   }
  }
 },
 "nbformat": 4,
 "nbformat_minor": 2
}
