{
 "cells": [
  {
   "cell_type": "markdown",
   "metadata": {},
   "source": [
    "***1) Single Number***\n",
    "\n",
    "Given a non-empty array of integers nums, every element appears twice except for one. Find that single one.\n",
    "\n",
    "You must implement a solution with a linear runtime complexity and use only constant extra space.\n"
   ]
  },
  {
   "cell_type": "code",
   "execution_count": 1,
   "metadata": {},
   "outputs": [
    {
     "name": "stdout",
     "output_type": "stream",
     "text": [
      "1\n",
      "4\n",
      "1\n"
     ]
    }
   ],
   "source": [
    "from typing import List\n",
    "class Solution:\n",
    "    def singleNumber(self, nums: List[int]) -> int:\n",
    "        singleNum = 0\n",
    "        for num in nums :\n",
    "            singleNum^=num\n",
    "        return singleNum\n",
    "\n",
    "s = Solution()\n",
    "\n",
    "#     Example 1 :\n",
    "print(s.singleNumber([2,2,1]))  # Output : 1       \n",
    "#     Example 2 :\n",
    "print(s.singleNumber([4,1,2,1,2])) # Output : 4\n",
    "#     Example 3 :\n",
    "print(s.singleNumber([1])) # Output : 1"
   ]
  },
  {
   "cell_type": "markdown",
   "metadata": {},
   "source": [
    "***2) Sort Integers by The Number of 1 Bits***\n",
    "\n",
    "You are given an integer array arr. Sort the integers in the array in ascending order by the number of 1's in their binary representation and in case of two or more integers have the same number of 1's you have to sort them in ascending order.\n",
    "\n",
    "Return the array after sorting it."
   ]
  },
  {
   "cell_type": "code",
   "execution_count": 1,
   "metadata": {},
   "outputs": [
    {
     "name": "stdout",
     "output_type": "stream",
     "text": [
      "[0, 1, 2, 4, 8, 3, 5, 6, 7]\n",
      "[1, 2, 4, 8, 16, 32, 64, 128, 256, 512, 1024]\n"
     ]
    }
   ],
   "source": [
    "from typing import List\n",
    "\n",
    "class Solution:\n",
    "    def sortByBits(self, array: List[int]) -> List[int]:\n",
    "        \n",
    "        array = sorted(array)\n",
    "        \n",
    "        binaryDict = {}\n",
    "        \n",
    "        for num in array:\n",
    "            noOfOnes = bin(num).count('1')\n",
    "            if noOfOnes not in binaryDict:\n",
    "                binaryDict[noOfOnes] = [num]\n",
    "            else:\n",
    "                binaryDict[noOfOnes].append(num)\n",
    "        \n",
    "        binaryDict = dict(sorted(binaryDict.items() , key = lambda num:num[0]))\n",
    "        \n",
    "        result = []\n",
    "        \n",
    "        for key in binaryDict:\n",
    "            result = result + binaryDict[key]\n",
    "        \n",
    "        return result\n",
    "\n",
    "s = Solution()\n",
    "\n",
    "#     Example 1 :\n",
    "print(s.sortByBits([0,1,2,3,4,5,6,7,8]))  # Output : [0,1,2,4,8,3,5,6,7]      \n",
    "#     Example 2 :\n",
    "print(s.sortByBits([1024,512,256,128,64,32,16,8,4,2,1])) # Output : [1,2,4,8,16,32,64,128,256,512,1024]"
   ]
  },
  {
   "cell_type": "markdown",
   "metadata": {},
   "source": [
    "***3) Single Number III***\n",
    "\n",
    "Given an integer array nums, in which exactly two elements appear only once and all the other elements appear exactly twice. Find the two elements that appear only once. You can return the answer in any order.\n",
    "\n",
    "You must write an algorithm that runs in linear runtime complexity and uses only constant extra space."
   ]
  },
  {
   "cell_type": "code",
   "execution_count": 7,
   "metadata": {},
   "outputs": [
    {
     "name": "stdout",
     "output_type": "stream",
     "text": [
      "[3, 5]\n",
      "[-1, 0]\n",
      "[1, 0]\n"
     ]
    }
   ],
   "source": [
    "from typing import List\n",
    "\n",
    "class Solution:\n",
    "    def singleNumber(self, nums: List[int]) -> List[int]:\n",
    "        \n",
    "        xorResult = 0\n",
    "\n",
    "        for num in nums:\n",
    "            xorResult^=num\n",
    "        \n",
    "        mask = xorResult & -xorResult\n",
    "        \n",
    "        singleNum1, sungleNum2 = 0, 0\n",
    "        \n",
    "        for num in nums:\n",
    "            if mask&num:\n",
    "                singleNum1 ^= num\n",
    "            else:\n",
    "                sungleNum2 ^= num\n",
    "                \n",
    "        return [singleNum1, sungleNum2]\n",
    "    \n",
    "s = Solution()\n",
    "\n",
    "#     Example 1 :\n",
    "print(s.singleNumber([1,2,1,3,2,5]))  # Output : [3,5]\n",
    "#     Example 2 :\n",
    "print(s.singleNumber([-1,0])) # Output : [-1,0]\n",
    "#     Example 3 :\n",
    "print(s.singleNumber([0,1])) # Output : [1,0]"
   ]
  },
  {
   "cell_type": "markdown",
   "metadata": {},
   "source": [
    "***4)Subsets***\n",
    "\n",
    "Given an integer array nums of unique elements, return all possible \n",
    "subsets(the power set).\n",
    "\n",
    "The solution set must not contain duplicate subsets. Return the solution in any order."
   ]
  },
  {
   "cell_type": "code",
   "execution_count": 2,
   "metadata": {},
   "outputs": [
    {
     "name": "stdout",
     "output_type": "stream",
     "text": [
      "[[], [1], [2], [1, 2], [3], [1, 3], [2, 3], [1, 2, 3]]\n",
      "[[], [0]]\n"
     ]
    }
   ],
   "source": [
    "from typing import List\n",
    "\n",
    "class Solution:\n",
    "    def subsets(self, nums: List[int]) -> List[List[int]]:\n",
    "        \n",
    "        result = []\n",
    "        \n",
    "        pow_set_size = 2**len(nums)\n",
    "        \n",
    "        counter,pointer = 0,0\n",
    "        \n",
    "        for counter in range(0, pow_set_size) :\n",
    "            \n",
    "            tempResult = []\n",
    "            \n",
    "            for pointer in range(0, len(nums)):\n",
    "                \n",
    "                if ( (counter & (1 << pointer)) > 0 ) :\n",
    "                    tempResult.append(nums[pointer])\n",
    "            \n",
    "            result.append(tempResult)\n",
    "        \n",
    "        return result\n",
    "\n",
    "s = Solution()\n",
    "\n",
    "#     Example 1 :\n",
    "print(s.subsets([1,2,3]))  # Output : [[],[1],[2],[1,2],[3],[1,3],[2,3],[1,2,3]]\n",
    "#     Example 2 :\n",
    "print(s.subsets([0])) # Output : [[],[0]]"
   ]
  }
 ],
 "metadata": {
  "kernelspec": {
   "display_name": "Python 3 (ipykernel)",
   "language": "python",
   "name": "python3"
  },
  "language_info": {
   "codemirror_mode": {
    "name": "ipython",
    "version": 3
   },
   "file_extension": ".py",
   "mimetype": "text/x-python",
   "name": "python",
   "nbconvert_exporter": "python",
   "pygments_lexer": "ipython3",
   "version": "3.10.2"
  },
  "vscode": {
   "interpreter": {
    "hash": "a122c9944ad41beb6aa9080bf0c751cb04b95398056e833ad50740a9031a725a"
   }
  }
 },
 "nbformat": 4,
 "nbformat_minor": 2
}
