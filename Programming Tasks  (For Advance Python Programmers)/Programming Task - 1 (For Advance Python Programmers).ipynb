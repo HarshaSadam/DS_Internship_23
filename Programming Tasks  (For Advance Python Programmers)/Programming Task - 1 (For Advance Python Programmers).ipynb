{
 "cells": [
  {
   "cell_type": "markdown",
   "id": "19ce3e49",
   "metadata": {},
   "source": [
    "***1) Running Sum of 1d Array***\n",
    "\n",
    "    Given an array nums. We define a running sum of an array as runningSum[i] = sum(nums[0]…nums[i]).\n",
    "    Return the running sum of nums."
   ]
  },
  {
   "cell_type": "code",
   "execution_count": 9,
   "id": "842bae0e",
   "metadata": {
    "scrolled": true
   },
   "outputs": [
    {
     "name": "stdout",
     "output_type": "stream",
     "text": [
      "[1, 3, 6, 10]\n",
      "[1, 2, 3, 4, 5]\n",
      "[3, 4, 6, 16, 17]\n"
     ]
    }
   ],
   "source": [
    "from typing import List\n",
    "\n",
    "class Solution:\n",
    "    def runningSum(self, nums: List[int]) -> List[int]:\n",
    "        runningSum = []\n",
    "        temp_sum = 0\n",
    "        for element in nums :\n",
    "            temp_sum = temp_sum + element\n",
    "            runningSum.append(temp_sum)\n",
    "        return runningSum\n",
    "    \n",
    "s = Solution()\n",
    "\n",
    "#     Example 1 :\n",
    "print(s.runningSum([1,2,3,4]))  # Output : [1,3,6,10]\n",
    "        \n",
    "#     Example 2 :\n",
    "print(s.runningSum([1,1,1,1,1])) # Output : [1,2,3,4,5]\n",
    "    \n",
    "#     Example 3 :\n",
    "print(s.runningSum([3,1,2,10,1])) # Output : [3,4,6,16,17]\n",
    "        \n",
    "    "
   ]
  },
  {
   "cell_type": "markdown",
   "id": "c7c6f4fb",
   "metadata": {},
   "source": [
    "***2) Shuffle the Array***\n",
    "\n",
    "    Given the array nums consisting of 2n elements in the form [x1,x2,...,xn,y1,y2,...,yn].\n",
    "    Return the array in the form [x1,y1,x2,y2,...,xn,yn]."
   ]
  },
  {
   "cell_type": "code",
   "execution_count": 10,
   "id": "1ac5b74f",
   "metadata": {},
   "outputs": [
    {
     "name": "stdout",
     "output_type": "stream",
     "text": [
      "[2, 3, 5, 4, 1, 7]\n",
      "[1, 4, 2, 3, 3, 2, 4, 1]\n",
      "[1, 2, 1, 2]\n"
     ]
    }
   ],
   "source": [
    "from typing import List\n",
    "\n",
    "class Solution:\n",
    "    def shuffle(self, nums: List[int], n: int) -> List[int]:\n",
    "        pointer1 = 0\n",
    "        pointer2 = n\n",
    "        result = []\n",
    "        while (pointer1<n):\n",
    "            result.append(nums[pointer1])\n",
    "            result.append(nums[pointer2])\n",
    "            pointer1 = pointer1+1\n",
    "            pointer2 = pointer2+1\n",
    "        return result\n",
    "    \n",
    "s = Solution()\n",
    "\n",
    "#     Example 1 :\n",
    "print(s.shuffle([2,5,1,3,4,7],3))  # Output : [2,3,5,4,1,7]\n",
    "        \n",
    "#     Example 2 :\n",
    "print(s.shuffle([1,2,3,4,4,3,2,1],4)) # Output : [1,4,2,3,3,2,4,1]\n",
    "    \n",
    "#     Example 3 :\n",
    "print(s.shuffle([1,1,2,2],2)) # Output : [1,2,1,2]\n",
    "        "
   ]
  },
  {
   "cell_type": "markdown",
   "id": "5bd84f0a",
   "metadata": {},
   "source": [
    "***3) Kids With the Greatest Number of Candies***\n",
    "    \n",
    "    There are n kids with candies. You are given an integer array candies, where each candies[i] represents the number of candies the ith kid has, and an integer extraCandies, denoting the number of extra candies that you have.\n",
    "\n",
    "    Return a boolean array result of length n, where result[i] is true if, after giving the ith kid all the extraCandies, they will have the greatest number of candies among all the kids, or false otherwise.\n",
    "\n",
    "    Note that multiple kids can have the greatest number of candies."
   ]
  },
  {
   "cell_type": "code",
   "execution_count": 13,
   "id": "c06d018e",
   "metadata": {},
   "outputs": [
    {
     "name": "stdout",
     "output_type": "stream",
     "text": [
      "[True, True, True, False, True]\n",
      "[True, False, False, False, False]\n",
      "[True, False, True]\n"
     ]
    }
   ],
   "source": [
    "from typing import List\n",
    "\n",
    "class Solution:\n",
    "    def kidsWithCandies(self, candies: List[int], extraCandies: int) -> List[bool]:\n",
    "        max_element = 0\n",
    "        result=[]\n",
    "        for ele in candies :\n",
    "            if max_element < ele :\n",
    "                max_element = ele\n",
    "        for ele in candies :\n",
    "            if ele + extraCandies >= max_element :\n",
    "                result.append(True)\n",
    "            else :\n",
    "                result.append(False)\n",
    "        return result \n",
    "\n",
    "s = Solution()\n",
    "\n",
    "#     Example 1 :\n",
    "print(s.kidsWithCandies([2,3,5,1,3],3))  # Output : [true,true,true,false,true]\n",
    "        \n",
    "#     Example 2 :\n",
    "print(s.kidsWithCandies([4,2,1,1,2],1)) # Output : [true,false,false,false,false] \n",
    "    \n",
    "#     Example 3 :\n",
    "print(s.kidsWithCandies([12,1,12],10)) # Output : [true,false,true]\n"
   ]
  }
 ],
 "metadata": {
  "kernelspec": {
   "display_name": "Python 3 (ipykernel)",
   "language": "python",
   "name": "python3"
  },
  "language_info": {
   "codemirror_mode": {
    "name": "ipython",
    "version": 3
   },
   "file_extension": ".py",
   "mimetype": "text/x-python",
   "name": "python",
   "nbconvert_exporter": "python",
   "pygments_lexer": "ipython3",
   "version": "3.10.2"
  },
  "vscode": {
   "interpreter": {
    "hash": "a122c9944ad41beb6aa9080bf0c751cb04b95398056e833ad50740a9031a725a"
   }
  }
 },
 "nbformat": 4,
 "nbformat_minor": 5
}
