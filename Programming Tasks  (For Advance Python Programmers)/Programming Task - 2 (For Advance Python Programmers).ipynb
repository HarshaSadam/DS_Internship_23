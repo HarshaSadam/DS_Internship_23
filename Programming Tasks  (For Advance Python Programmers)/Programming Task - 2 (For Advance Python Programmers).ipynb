{
 "cells": [
  {
   "cell_type": "markdown",
   "metadata": {},
   "source": [
    "*** 1) Defanging an IP Address ***\n",
    "    \n",
    "    Given a valid (IPv4) IP address, return a defanged version of that IP address.\n",
    "A defanged IP address replaces every period \".\" with \"[.]\"."
   ]
  },
  {
   "cell_type": "code",
   "execution_count": 1,
   "metadata": {},
   "outputs": [
    {
     "name": "stdout",
     "output_type": "stream",
     "text": [
      "1[.]1[.]1[.]1\n",
      "255[.]100[.]50[.]0\n"
     ]
    }
   ],
   "source": [
    "class Solution:\n",
    "    def defangIPaddr(self, address: str) -> str:\n",
    "        defangedIP = \"\"\n",
    "        for data in address :\n",
    "            if (data == '.') :\n",
    "                defangedIP  = defangedIP + \"[.]\"\n",
    "            else :\n",
    "                defangedIP = defangedIP + data\n",
    "        return defangedIP\n",
    "\n",
    "s = Solution()\n",
    "\n",
    "#     Example 1 :\n",
    "print(s.defangIPaddr(\"1.1.1.1\"))  # Output : \"1[.]1[.]1[.]1\"\n",
    "        \n",
    "#     Example 2 :\n",
    "print(s.defangIPaddr(\"255.100.50.0\")) # Output : \"255[.]100[.]50[.]0\""
   ]
  },
  {
   "cell_type": "markdown",
   "metadata": {},
   "source": [
    "***2) Find Numbers with Even Number of Digits***\n",
    "\n",
    "    Given an array nums of integers, return how many of them contain an even number of digits."
   ]
  },
  {
   "cell_type": "code",
   "execution_count": 2,
   "metadata": {},
   "outputs": [
    {
     "name": "stdout",
     "output_type": "stream",
     "text": [
      "2\n",
      "1\n"
     ]
    }
   ],
   "source": [
    "from typing import List\n",
    "\n",
    "class Solution:\n",
    "    def findNumbers(self, nums: List[int]) -> int:\n",
    "        countNumEvenDig = 0\n",
    "        for num in nums :\n",
    "            tempNum = num\n",
    "            tempCount = 0\n",
    "            while(tempNum>0):\n",
    "                tempCount=tempCount+1\n",
    "                tempNum = tempNum//10\n",
    "            if(tempCount%2==0):\n",
    "                countNumEvenDig= countNumEvenDig+1\n",
    "        return countNumEvenDig\n",
    "\n",
    "s = Solution()\n",
    "\n",
    "#     Example 1 :\n",
    "print(s.findNumbers([12,345,2,6,7896]))  # Output : 2\n",
    "        \n",
    "#     Example 2 :\n",
    "print(s.findNumbers([555,901,482,1771])) # Output : 1"
   ]
  },
  {
   "cell_type": "markdown",
   "metadata": {},
   "source": [
    "*** 3) Number of Good Pairs ***\n",
    "    \n",
    "    Given an array of integers nums, return the number of good pairs.\n",
    "    A pair (i, j) is called good if nums[i] == nums[j] and i < j."
   ]
  },
  {
   "cell_type": "code",
   "execution_count": 1,
   "metadata": {},
   "outputs": [
    {
     "name": "stdout",
     "output_type": "stream",
     "text": [
      "4\n",
      "6\n",
      "0\n"
     ]
    }
   ],
   "source": [
    "from typing import List\n",
    "\n",
    "class Solution:\n",
    "    def numIdenticalPairs(self, nums: List[int]) -> int:\n",
    "        numsFrequency = {}\n",
    "        for num in nums :\n",
    "            if num not in numsFrequency :\n",
    "                numsFrequency[num] = 0\n",
    "            numsFrequency[num] = numsFrequency[num]+1\n",
    "        countPairs = 0\n",
    "        for num in numsFrequency :\n",
    "            countPairs = countPairs +  ((numsFrequency[num]*(numsFrequency[num] - 1))//2)\n",
    "        return countPairs\n",
    "\n",
    "s = Solution()\n",
    "\n",
    "#     Example 1 :\n",
    "print(s.numIdenticalPairs([1,2,3,1,1,3]))  # Output : 4\n",
    "        \n",
    "#     Example 2 :\n",
    "print(s.numIdenticalPairs([1,1,1,1])) # Output : 6\n",
    "\n",
    "#     Example 3 :\n",
    "print(s.numIdenticalPairs([1,2,3])) # Output : 0"
   ]
  },
  {
   "cell_type": "markdown",
   "metadata": {},
   "source": [
    "***4) How Many Numbers Are Smaller Than the Current Number***\n",
    "\n",
    "    Given the array nums, for each nums[i] find out how many numbers in the array are smaller than it. That is, for each nums[i] you have to count the number of valid j's such that j != i and nums[j] < nums[i].\n",
    "    Return the answer in an array.\n"
   ]
  },
  {
   "cell_type": "code",
   "execution_count": 3,
   "metadata": {},
   "outputs": [
    {
     "name": "stdout",
     "output_type": "stream",
     "text": [
      "[4, 0, 1, 1, 3]\n",
      "[2, 1, 0, 3]\n",
      "[0, 0, 0, 0]\n"
     ]
    }
   ],
   "source": [
    "from typing import List\n",
    "\n",
    "class Solution:\n",
    "    def smallerNumbersThanCurrent(self, nums: List[int]) -> List[int]:\n",
    "        tempNums = sorted(nums)\n",
    "        numsMap = {}\n",
    "        for i in range(len(nums)) : \n",
    "            if tempNums[i] not in numsMap :\n",
    "                numsMap[tempNums[i]] = i\n",
    "        result = []\n",
    "        for num in nums :\n",
    "            result.append(numsMap[num])\n",
    "        return result\n",
    "\n",
    "s = Solution()\n",
    "\n",
    "#     Example 1 :\n",
    "print(s.smallerNumbersThanCurrent([8,1,2,2,3]))  # Output : [4,0,1,1,3]\n",
    "        \n",
    "#     Example 2 :\n",
    "print(s.smallerNumbersThanCurrent([6,5,4,8])) # Output : [2,1,0,3]\n",
    "\n",
    "#     Example 3 :\n",
    "print(s.smallerNumbersThanCurrent([7,7,7,7])) # Output : [0,0,0,0]"
   ]
  },
  {
   "cell_type": "markdown",
   "metadata": {},
   "source": [
    "***5) Subtract the Product and Sum of Digits of an Integer***\n",
    "\n",
    "    Given an integer number n, return the difference between the product of its digits and the sum of its digits."
   ]
  },
  {
   "cell_type": "code",
   "execution_count": 7,
   "metadata": {},
   "outputs": [
    {
     "name": "stdout",
     "output_type": "stream",
     "text": [
      "15\n",
      "21\n"
     ]
    }
   ],
   "source": [
    "class Solution:\n",
    "    def subtractProductAndSum(self, n: int) -> int:\n",
    "        sumOfDigits = 0\n",
    "        productOfDigits = 1\n",
    "        for num in str(n) :\n",
    "            digit = int(num)\n",
    "            sumOfDigits = sumOfDigits + digit\n",
    "            productOfDigits = productOfDigits * digit\n",
    "        return (productOfDigits - sumOfDigits)\n",
    "\n",
    "s = Solution()\n",
    "\n",
    "#     Example 1 :\n",
    "print(s.subtractProductAndSum(234))  # Output : 15\n",
    "        \n",
    "#     Example 2 :\n",
    "print(s.subtractProductAndSum(4421)) # Output : 21"
   ]
  },
  {
   "cell_type": "markdown",
   "metadata": {},
   "source": [
    "***6) XOR Operation in an Array***\n",
    "\n",
    "    You are given an integer n and an integer start.\n",
    "    Define an array nums where nums[i] = start + 2 * i (0-indexed) and n == nums.length.\n",
    "    Return the bitwise XOR of all elements of nums."
   ]
  },
  {
   "cell_type": "code",
   "execution_count": 6,
   "metadata": {},
   "outputs": [
    {
     "name": "stdout",
     "output_type": "stream",
     "text": [
      "8\n",
      "8\n"
     ]
    }
   ],
   "source": [
    "class Solution:\n",
    "    def xorOperation(self, n: int, start: int) -> int:\n",
    "        result = 0\n",
    "        nums = []\n",
    "        \n",
    "        for i in range(n):\n",
    "            nums.append(start + 2*i)\n",
    "\n",
    "        for i in range(len(nums)):\n",
    "            result = result^nums[i]\n",
    "        return result\n",
    "\n",
    "s = Solution()\n",
    "\n",
    "#     Example 1 :\n",
    "print(s.xorOperation(5,0))  # Output : 8\n",
    "        \n",
    "#     Example 2 :\n",
    "print(s.xorOperation(4,3)) # Output : 8"
   ]
  }
 ],
 "metadata": {
  "kernelspec": {
   "display_name": "Python 3 (ipykernel)",
   "language": "python",
   "name": "python3"
  },
  "language_info": {
   "codemirror_mode": {
    "name": "ipython",
    "version": 3
   },
   "file_extension": ".py",
   "mimetype": "text/x-python",
   "name": "python",
   "nbconvert_exporter": "python",
   "pygments_lexer": "ipython3",
   "version": "3.10.2"
  },
  "vscode": {
   "interpreter": {
    "hash": "a122c9944ad41beb6aa9080bf0c751cb04b95398056e833ad50740a9031a725a"
   }
  }
 },
 "nbformat": 4,
 "nbformat_minor": 2
}
