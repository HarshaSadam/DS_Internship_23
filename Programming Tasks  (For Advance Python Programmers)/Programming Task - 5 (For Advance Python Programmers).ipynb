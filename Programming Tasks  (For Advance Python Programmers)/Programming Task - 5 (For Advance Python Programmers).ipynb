{
 "cells": [
  {
   "attachments": {},
   "cell_type": "markdown",
   "metadata": {},
   "source": [
    "***1) Subsets***\n",
    "\n",
    "Given an integer array nums of unique elements, return all possible \n",
    "subsets(the power set).\n",
    "\n",
    "The solution set must not contain duplicate subsets. Return the solution in any order."
   ]
  },
  {
   "cell_type": "code",
   "execution_count": 1,
   "metadata": {},
   "outputs": [
    {
     "name": "stdout",
     "output_type": "stream",
     "text": [
      "[[], [1], [2], [1, 2], [3], [1, 3], [2, 3], [1, 2, 3]]\n",
      "[[], [0]]\n"
     ]
    }
   ],
   "source": [
    "from typing import List\n",
    "\n",
    "class Solution:\n",
    "    def subsets(self, nums: List[int]) -> List[List[int]]:\n",
    "        \n",
    "        result = []\n",
    "        \n",
    "        pow_set_size = 2**len(nums)\n",
    "        \n",
    "        counter,pointer = 0,0\n",
    "        \n",
    "        for counter in range(0, pow_set_size) :\n",
    "            \n",
    "            tempResult = []\n",
    "            \n",
    "            for pointer in range(0, len(nums)):\n",
    "                \n",
    "                if ( (counter & (1 << pointer)) > 0 ) :\n",
    "                    tempResult.append(nums[pointer])\n",
    "            \n",
    "            result.append(tempResult)\n",
    "        \n",
    "        return result\n",
    "\n",
    "s = Solution()\n",
    "\n",
    "#     Example 1 :\n",
    "print(s.subsets([1,2,3]))  # Output : [[],[1],[2],[1,2],[3],[1,3],[2,3],[1,2,3]]\n",
    "#     Example 2 :\n",
    "print(s.subsets([0])) # Output : [[],[0]]"
   ]
  },
  {
   "attachments": {},
   "cell_type": "markdown",
   "metadata": {},
   "source": [
    "***2)Hamming Distance***\n",
    "\n",
    "The Hamming distance between two integers is the number of positions at which the corresponding bits are different.\n",
    "\n",
    "Given two integers x and y, return the Hamming distance between them."
   ]
  },
  {
   "cell_type": "code",
   "execution_count": 2,
   "metadata": {},
   "outputs": [
    {
     "name": "stdout",
     "output_type": "stream",
     "text": [
      "2\n",
      "1\n"
     ]
    }
   ],
   "source": [
    "class Solution:\n",
    "    def hammingDistance(self, x: int, y: int) -> int:\n",
    "        xorResult = x ^ y\n",
    "\n",
    "        hammingDist = 0\n",
    "        \n",
    "        while(xorResult > 0):\n",
    "            hammingDist += xorResult&1\n",
    "            xorResult >>= 1\n",
    "        \n",
    "        return hammingDist \n",
    "\n",
    "\n",
    "s = Solution()\n",
    "\n",
    "#     Example 1 :\n",
    "print(s.hammingDistance(1,4))  # Output : 2\n",
    "#     Example 2 :\n",
    "print(s.hammingDistance(3,1)) # Output : 1"
   ]
  },
  {
   "attachments": {},
   "cell_type": "markdown",
   "metadata": {},
   "source": [
    "***3) Single Number II***\n",
    "\n",
    "Given an integer array nums where every element appears three times except for one, which appears exactly once. Find the single element and return it.\n",
    "\n",
    "You must implement a solution with a linear runtime complexity and use only constant extra space."
   ]
  },
  {
   "cell_type": "code",
   "execution_count": 9,
   "metadata": {},
   "outputs": [
    {
     "name": "stdout",
     "output_type": "stream",
     "text": [
      "3\n",
      "99\n"
     ]
    }
   ],
   "source": [
    "from typing import List\n",
    "from unittest import result\n",
    "\n",
    "class Solution:\n",
    "    def singleNumber(self, nums: List[int]) -> int:\n",
    "        \n",
    "        numsSum = 0\n",
    "        \n",
    "        for num in nums :\n",
    "            numsSum += num\n",
    "        \n",
    "        numsSetSum = 0\n",
    "                \n",
    "        for num in set(nums) :\n",
    "            numsSetSum+= num\n",
    "        \n",
    "        return (3*numsSetSum - numsSum) // 2\n",
    "\n",
    "s = Solution()\n",
    "\n",
    "#     Example 1 :\n",
    "print(s.singleNumber([2,2,3,2]))  # Output : 3\n",
    "#     Example 2 :\n",
    "print(s.singleNumber([0,1,0,1,0,1,99])) # Output : 99"
   ]
  }
 ],
 "metadata": {
  "kernelspec": {
   "display_name": "Python 3.10.2 64-bit",
   "language": "python",
   "name": "python3"
  },
  "language_info": {
   "codemirror_mode": {
    "name": "ipython",
    "version": 3
   },
   "file_extension": ".py",
   "mimetype": "text/x-python",
   "name": "python",
   "nbconvert_exporter": "python",
   "pygments_lexer": "ipython3",
   "version": "3.10.2"
  },
  "orig_nbformat": 4,
  "vscode": {
   "interpreter": {
    "hash": "a122c9944ad41beb6aa9080bf0c751cb04b95398056e833ad50740a9031a725a"
   }
  }
 },
 "nbformat": 4,
 "nbformat_minor": 2
}
